{
  "cells": [
    {
      "cell_type": "code",
      "execution_count": 1,
      "metadata": {
        "id": "oNFddliKlu0F"
      },
      "outputs": [],
      "source": [
        "# For tips on running notebooks in Google Colab, see\n",
        "# https://docs.pytorch.org/tutorials/beginner/colab\n",
        "%matplotlib inline"
      ]
    },
    {
      "cell_type": "markdown",
      "metadata": {
        "id": "VZSN6lPHlu0F"
      },
      "source": [
        "Sequence Models and Long Short-Term Memory Networks\n",
        "===================================================\n",
        "\n",
        "At this point, we have seen various feed-forward networks. That is,\n",
        "there is no state maintained by the network at all. This might not be\n",
        "the behavior we want. Sequence models are central to NLP: they are\n",
        "models where there is some sort of dependence through time between your\n",
        "inputs. The classical example of a sequence model is the Hidden Markov\n",
        "Model for part-of-speech tagging. Another example is the conditional\n",
        "random field.\n",
        "\n",
        "A recurrent neural network is a network that maintains some kind of\n",
        "state. For example, its output could be used as part of the next input,\n",
        "so that information can propagate along as the network passes over the\n",
        "sequence. In the case of an LSTM, for each element in the sequence,\n",
        "there is a corresponding *hidden state* $h_t$, which in principle can\n",
        "contain information from arbitrary points earlier in the sequence. We\n",
        "can use the hidden state to predict words in a language model,\n",
        "part-of-speech tags, and a myriad of other things.\n",
        "\n",
        "LSTMs in Pytorch\n",
        "----------------\n",
        "\n",
        "Before getting to the example, note a few things. Pytorch\\'s LSTM\n",
        "expects all of its inputs to be 3D tensors. The semantics of the axes of\n",
        "these tensors is important. The first axis is the sequence itself, the\n",
        "second indexes instances in the mini-batch, and the third indexes\n",
        "elements of the input. We haven\\'t discussed mini-batching, so let\\'s\n",
        "just ignore that and assume we will always have just 1 dimension on the\n",
        "second axis. If we want to run the sequence model over the sentence\n",
        "\\\"The cow jumped\\\", our input should look like\n",
        "\n",
        "$$\\begin{aligned}\n",
        "\\begin{bmatrix}\n",
        "\\overbrace{q_\\text{The}}^\\text{row vector} \\\\\n",
        "q_\\text{cow} \\\\\n",
        "q_\\text{jumped}\n",
        "\\end{bmatrix}\n",
        "\\end{aligned}$$\n",
        "\n",
        "Except remember there is an additional 2nd dimension with size 1.\n",
        "\n",
        "In addition, you could go through the sequence one at a time, in which\n",
        "case the 1st axis will have size 1 also.\n",
        "\n",
        "Let\\'s see a quick example.\n"
      ]
    },
    {
      "cell_type": "code",
      "execution_count": 3,
      "metadata": {
        "id": "d_mYQTB4lu0G",
        "outputId": "df52b620-c12f-46fa-b3ff-553ff8f48d9e",
        "colab": {
          "base_uri": "https://localhost:8080/"
        }
      },
      "outputs": [
        {
          "output_type": "stream",
          "name": "stdout",
          "text": [
            "Using device = cpu\n"
          ]
        },
        {
          "output_type": "execute_result",
          "data": {
            "text/plain": [
              "<torch._C.Generator at 0x79ffc0b34df0>"
            ]
          },
          "metadata": {},
          "execution_count": 3
        }
      ],
      "source": [
        "# Author: Robert Guthrie\n",
        "\n",
        "import torch\n",
        "import torch.nn as nn\n",
        "import torch.nn.functional as F\n",
        "import torch.optim as optim\n",
        "\n",
        "\n",
        "# Check if CUDA is available\n",
        "device = torch.device('cpu')\n",
        "if torch.cuda.is_available():\n",
        "    device = torch.device('cuda')\n",
        "\n",
        "torch.set_default_device(device)\n",
        "print(f\"Using device = {torch.get_default_device()}\")\n",
        "\n",
        "\n",
        "torch.manual_seed(1)"
      ]
    },
    {
      "cell_type": "code",
      "execution_count": 6,
      "metadata": {
        "id": "71pLYiGRlu0G",
        "outputId": "ee409e82-39c5-425d-bc7b-e081f453b82a",
        "colab": {
          "base_uri": "https://localhost:8080/"
        }
      },
      "outputs": [
        {
          "output_type": "stream",
          "name": "stdout",
          "text": [
            "torch.Size([5, 1, 3])\n",
            "(tensor([[[ 0.0632,  0.3618, -0.0946]]], grad_fn=<StackBackward0>), tensor([[[ 0.1318,  0.7306, -0.2071]]], grad_fn=<StackBackward0>))\n"
          ]
        }
      ],
      "source": [
        "lstm = nn.LSTM(3, 3)  # Input dim is 3, output dim is 3\n",
        "inputs = [torch.randn(1, 3) for _ in range(5)]  # make a sequence of length 5\n",
        "\n",
        "# initialize the hidden state.\n",
        "hidden = (torch.randn(1, 1, 3),\n",
        "          torch.randn(1, 1, 3))\n",
        "for i in inputs:\n",
        "    # Step through the sequence one element at a time.\n",
        "    # after each step, hidden contains the hidden state.\n",
        "    out, hidden = lstm(i.view(1, 1, -1), hidden)\n",
        "\n",
        "# alternatively, we can do the entire sequence all at once.\n",
        "# the first value returned by LSTM is all of the hidden states throughout\n",
        "# the sequence. the second is just the most recent hidden state\n",
        "# (compare the last slice of \"out\" with \"hidden\" below, they are the same)\n",
        "# The reason for this is that:\n",
        "# \"out\" will give you access to all hidden states in the sequence\n",
        "# \"hidden\" will allow you to continue the sequence and backpropagate,\n",
        "# by passing it as an argument  to the lstm at a later time\n",
        "# Add the extra 2nd dimension\n",
        "inputs = torch.cat(inputs).view(len(inputs), 1, -1)\n",
        "hidden = (torch.randn(1, 1, 3), torch.randn(1, 1, 3))  # clean out hidden state\n",
        "out, hidden = lstm(inputs, hidden)\n",
        "print(out.shape)\n",
        "print(hidden)"
      ]
    },
    {
      "cell_type": "markdown",
      "metadata": {
        "id": "YHLIxQ8ilu0G"
      },
      "source": [
        "Example: An LSTM for Part-of-Speech Tagging\n",
        "===========================================\n",
        "\n",
        "In this section, we will use an LSTM to get part of speech tags. We will\n",
        "not use Viterbi or Forward-Backward or anything like that, but as a\n",
        "(challenging) exercise to the reader, think about how Viterbi could be\n",
        "used after you have seen what is going on. In this example, we also\n",
        "refer to embeddings. If you are unfamiliar with embeddings, you can read\n",
        "up about them\n",
        "[here](https://pytorch.org/tutorials/beginner/nlp/word_embeddings_tutorial.html).\n",
        "\n",
        "The model is as follows: let our input sentence be $w_1, \\dots, w_M$,\n",
        "where $w_i \\in V$, our vocab. Also, let $T$ be our tag set, and $y_i$\n",
        "the tag of word $w_i$. Denote our prediction of the tag of word $w_i$ by\n",
        "$\\hat{y}_i$.\n",
        "\n",
        "This is a structure prediction, model, where our output is a sequence\n",
        "$\\hat{y}_1, \\dots, \\hat{y}_M$, where $\\hat{y}_i \\in T$.\n",
        "\n",
        "To do the prediction, pass an LSTM over the sentence. Denote the hidden\n",
        "state at timestep $i$ as $h_i$. Also, assign each tag a unique index\n",
        "(like how we had word\\_to\\_ix in the word embeddings section). Then our\n",
        "prediction rule for $\\hat{y}_i$ is\n",
        "\n",
        "$$\\hat{y}_i = \\text{argmax}_j \\  (\\log \\text{Softmax}(Ah_i + b))_j$$\n",
        "\n",
        "That is, take the log softmax of the affine map of the hidden state, and\n",
        "the predicted tag is the tag that has the maximum value in this vector.\n",
        "Note this implies immediately that the dimensionality of the target\n",
        "space of $A$ is $|T|$.\n",
        "\n",
        "Prepare data:\n"
      ]
    },
    {
      "cell_type": "code",
      "execution_count": 9,
      "metadata": {
        "id": "x4io3XDClu0G",
        "outputId": "22816e25-f97e-4f62-f30d-d7390eb5854d",
        "colab": {
          "base_uri": "https://localhost:8080/"
        }
      },
      "outputs": [
        {
          "output_type": "stream",
          "name": "stdout",
          "text": [
            "{'The': 0, 'dog': 1, 'ate': 2, 'the': 3, 'apple': 4, 'Everybody': 5, 'read': 6, 'that': 7, 'book': 8}\n"
          ]
        }
      ],
      "source": [
        "def prepare_sequence(seq, to_ix):\n",
        "    idxs = [to_ix[w] for w in seq]\n",
        "    return torch.tensor(idxs, dtype=torch.long)\n",
        "\n",
        "\n",
        "training_data = [\n",
        "    # Tags are: DET - determiner; NN - noun; V - verb\n",
        "    # For example, the word \"The\" is a determiner\n",
        "    (\"The dog ate the apple\".split(), [\"DET\", \"NN\", \"V\", \"DET\", \"NN\"]),\n",
        "    (\"Everybody read that book\".split(), [\"NN\", \"V\", \"DET\", \"NN\"])\n",
        "]\n",
        "word_to_ix = {}\n",
        "# For each words-list (sentence) and tags-list in each tuple of training_data\n",
        "for sent, tags in training_data:\n",
        "    for word in sent:\n",
        "        if word not in word_to_ix:  # word has not been assigned an index yet\n",
        "            word_to_ix[word] = len(word_to_ix)  # Assign each word with a unique index\n",
        "print(word_to_ix)\n",
        "tag_to_ix = {\"DET\": 0, \"NN\": 1, \"V\": 2}  # Assign each tag with a unique index\n",
        "\n",
        "# These will usually be more like 32 or 64 dimensional.\n",
        "# We will keep them small, so we can see how the weights change as we train.\n",
        "EMBEDDING_DIM = 6\n",
        "HIDDEN_DIM = 6"
      ]
    },
    {
      "cell_type": "markdown",
      "metadata": {
        "id": "ot7WR_yvlu0H"
      },
      "source": [
        "Create the model:\n"
      ]
    },
    {
      "cell_type": "code",
      "execution_count": 26,
      "metadata": {
        "id": "k_-TEPTylu0H"
      },
      "outputs": [],
      "source": [
        "class LSTMTagger(nn.Module):\n",
        "\n",
        "    def __init__(self, embedding_dim, hidden_dim, vocab_size, tagset_size):\n",
        "        super(LSTMTagger, self).__init__()\n",
        "        self.hidden_dim = hidden_dim\n",
        "\n",
        "        self.word_embeddings = nn.Embedding(vocab_size, embedding_dim)\n",
        "\n",
        "        # The LSTM takes word embeddings as inputs, and outputs hidden states\n",
        "        # with dimensionality hidden_dim.\n",
        "        self.lstm = nn.LSTM(embedding_dim, hidden_dim)\n",
        "\n",
        "        # The linear layer that maps from hidden state space to tag space\n",
        "        self.hidden2tag = nn.Linear(hidden_dim, tagset_size)\n",
        "\n",
        "    def forward(self, sentence):\n",
        "        embeds = self.word_embeddings(sentence)\n",
        "        lstm_out, _ = self.lstm(embeds.view(len(sentence), 1, -1))\n",
        "\n",
        "        tag_space = self.hidden2tag(lstm_out.view(len(sentence), -1))\n",
        "        tag_scores = F.log_softmax(tag_space, dim=1)\n",
        "        return tag_scores\n"
      ]
    },
    {
      "cell_type": "markdown",
      "metadata": {
        "id": "jq-rXugMlu0H"
      },
      "source": [
        "Train the model:\n"
      ]
    },
    {
      "cell_type": "code",
      "execution_count": 34,
      "metadata": {
        "id": "dXCUOKv5lu0H",
        "outputId": "0990b5a5-81b2-46f2-c262-440e0a14e54b",
        "colab": {
          "base_uri": "https://localhost:8080/"
        }
      },
      "outputs": [
        {
          "output_type": "stream",
          "name": "stdout",
          "text": [
            "LSTMTagger(\n",
            "  (word_embeddings): Embedding(9, 6)\n",
            "  (lstm): LSTM(6, 6)\n",
            "  (hidden2tag): Linear(in_features=6, out_features=3, bias=True)\n",
            ")\n",
            "tensor([[-1.3755, -1.0488, -0.9239],\n",
            "        [-1.3687, -1.1251, -0.8652],\n",
            "        [-1.3340, -1.0526, -0.9479],\n",
            "        [-1.4107, -1.0378, -0.9118],\n",
            "        [-1.4456, -0.9554, -0.9682]])\n",
            "tensor([[-0.0591, -3.2488, -3.9870],\n",
            "        [-4.6326, -0.0225, -4.3811],\n",
            "        [-2.9452, -2.5341, -0.1415],\n",
            "        [-0.0520, -3.3256, -4.2184],\n",
            "        [-5.0318, -0.0321, -3.6875]])\n"
          ]
        }
      ],
      "source": [
        "model = LSTMTagger(EMBEDDING_DIM, HIDDEN_DIM, len(word_to_ix), len(tag_to_ix))\n",
        "\n",
        "print(model)\n",
        "\n",
        "\n",
        "loss_function = nn.NLLLoss()\n",
        "optimizer = optim.SGD(model.parameters(), lr=0.1)\n",
        "\n",
        "# See what the scores are before training\n",
        "# Note that element i,j of the output is the score for tag j for word i.\n",
        "# Here we don't need to train, so the code is wrapped in torch.no_grad()\n",
        "with torch.no_grad():\n",
        "    inputs = prepare_sequence(training_data[0][0], word_to_ix)\n",
        "    tag_scores = model(inputs)\n",
        "    print(tag_scores)\n",
        "\n",
        "for epoch in range(300):  # again, normally you would NOT do 300 epochs, it is toy data\n",
        "    for sentence, tags in training_data:\n",
        "        # Step 1. Remember that Pytorch accumulates gradients.\n",
        "        # We need to clear them out before each instance\n",
        "        model.zero_grad()\n",
        "\n",
        "        # Step 2. Get our inputs ready for the network, that is, turn them into\n",
        "        # Tensors of word indices.\n",
        "        sentence_in = prepare_sequence(sentence, word_to_ix)\n",
        "        targets = prepare_sequence(tags, tag_to_ix)\n",
        "\n",
        "\n",
        "        # Step 3. Run our forward pass.\n",
        "        tag_scores = model(sentence_in)\n",
        "\n",
        "\n",
        "        # Step 4. Compute the loss, gradients, and update the parameters by\n",
        "        #  calling optimizer.step()\n",
        "        loss = loss_function(tag_scores, targets)\n",
        "        loss.backward()\n",
        "        optimizer.step()\n",
        "\n",
        "# See what the scores are after training\n",
        "with torch.no_grad():\n",
        "    inputs = prepare_sequence(training_data[0][0], word_to_ix)\n",
        "    tag_scores = model(inputs)\n",
        "\n",
        "    # The sentence is \"the dog ate the apple\".  i,j corresponds to score for tag j\n",
        "    # for word i. The predicted tag is the maximum scoring tag.\n",
        "    # Here, we can see the predicted sequence below is 0 1 2 0 1\n",
        "    # since 0 is index of the maximum value of row 1,\n",
        "    # 1 is the index of maximum value of row 2, etc.\n",
        "    # Which is DET NOUN VERB DET NOUN, the correct sequence!\n",
        "    print(tag_scores)"
      ]
    },
    {
      "cell_type": "markdown",
      "metadata": {
        "id": "-Jma5rXtlu0H"
      },
      "source": [
        "Exercise: Augmenting the LSTM part-of-speech tagger with character-level features\n",
        "=================================================================================\n",
        "\n",
        "In the example above, each word had an embedding, which served as the\n",
        "inputs to our sequence model. Let\\'s augment the word embeddings with a\n",
        "representation derived from the characters of the word. We expect that\n",
        "this should help significantly, since character-level information like\n",
        "affixes have a large bearing on part-of-speech. For example, words with\n",
        "the affix *-ly* are almost always tagged as adverbs in English.\n",
        "\n",
        "To do this, let $c_w$ be the character-level representation of word $w$.\n",
        "Let $x_w$ be the word embedding as before. Then the input to our\n",
        "sequence model is the concatenation of $x_w$ and $c_w$. So if $x_w$ has\n",
        "dimension 5, and $c_w$ dimension 3, then our LSTM should accept an input\n",
        "of dimension 8.\n",
        "\n",
        "To get the character level representation, do an LSTM over the\n",
        "characters of a word, and let $c_w$ be the final hidden state of this\n",
        "LSTM. Hints:\n",
        "\n",
        "-   There are going to be two LSTM\\'s in your new model. The original\n",
        "    one that outputs POS tag scores, and the new one that outputs a\n",
        "    character-level representation of each word.\n",
        "-   To do a sequence model over characters, you will have to embed\n",
        "    characters. The character embeddings will be the input to the\n",
        "    character LSTM.\n"
      ]
    }
  ],
  "metadata": {
    "kernelspec": {
      "display_name": "Python 3",
      "language": "python",
      "name": "python3"
    },
    "language_info": {
      "codemirror_mode": {
        "name": "ipython",
        "version": 3
      },
      "file_extension": ".py",
      "mimetype": "text/x-python",
      "name": "python",
      "nbconvert_exporter": "python",
      "pygments_lexer": "ipython3",
      "version": "3.10.12"
    },
    "colab": {
      "provenance": []
    }
  },
  "nbformat": 4,
  "nbformat_minor": 0
}